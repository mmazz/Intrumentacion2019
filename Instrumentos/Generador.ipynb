{
 "cells": [
  {
   "cell_type": "code",
   "execution_count": 1,
   "metadata": {},
   "outputs": [],
   "source": [
    "# -*- coding: utf-8 -*-\n",
    "\"\"\"\n",
    "    lantz.drivers.tektronix.afg3021b\n",
    "    ~~~~~~~~~~~~~~~~~~~~~~~~~~~~~~~~\n",
    "    Implements the drivers to control a signal generator.\n",
    "    :copyright: 2015 by Lantz Authors, see AUTHORS for more details.\n",
    "    :license: BSD, see LICENSE for more details.\n",
    "\"\"\"\n",
    "\n",
    "from lantz import Feat\n",
    "from lantz.core import mfeats\n",
    "from lantz import MessageBasedDriver\n",
    "from lantz.core import log\n",
    "from logging import DEBUG\n",
    "\n",
    "\n",
    "\n",
    "class Generador(MessageBasedDriver):\n",
    "\n",
    "    MANUFACTURER_ID = '0x0699'\n",
    "    MODEL_CODE = '0x0346'\n",
    "\n",
    "    @Feat()\n",
    "    def idn(self):\n",
    "        return self.query('*IDN?')\n",
    "    \n",
    "    @Feat(units = 'Hz',limits=(0,10000))\n",
    "    def freq(self):\n",
    "        self.log\n",
    "        return float(self.query(\"SOUR1:FREQ:FIX?\"))\n",
    "        \n",
    "    @freq.setter\n",
    "    def freq(self, hertz):\n",
    "        self.write(\"SOUR1:FREQ:FIX {}\".format(hertz))\n",
    "    \n",
    "    freqs = mfeats.QuantityFeat(\"SOUR1:FREQ:FIX?\",\"SOUR1:FREQ:FIX {}\", units = 'Hz',limits=(0,10000))\n",
    "        \n",
    "    def set_amp(self, volts):\n",
    "        self.write(\"SOUR1:VOLT:AMPL {}\".format(volts))\n",
    "   \n",
    "    def waveform_shape(self, channel = 1, shape = 'SIN'):\n",
    "        # Formas posibles: SIN, SQU, PULS, RAMP\n",
    "        # PRNoise, DC|SINC|GAUSsian|LORentz|ERISe|EDECay|\n",
    "        # HAVersine\n",
    "        self.write('SOUR{}:FUNC:SHAPE {}'.format(channel, shape))\n",
    "        \n",
    "    def waveform_phase(self, radians, channel = 1):\n",
    "        self.write('SOUR{}:PHAS {})'.format(channel, radians))\n",
    "    \n",
    "    def close_instrument(self):\n",
    "        # Close VISA session (Close instrument connection)\n",
    "        print(\"Killing\")\n",
    "        self.close()\n",
    "        print(\"VISA session closed!\")\n",
    "    \n",
    "    def freq_sweep(self, freq_inicial, freq_final, step, stop = 1, channel = 1):\n",
    "        # Hace un barrido de frecuencias desde freq_inicial hasta freq_final\n",
    "        # con un step. Entre cada cambio de frecuencia dejamos 1 segundo de\n",
    "        # stop.\n",
    "        frecuencias = np.arange(freq_inicial, freq_final, step)\n",
    "        for elemento in frecuencias:\n",
    "            self.write('SOUR{}:FREQ:FIX {}'.format(channel, elemento))\n",
    "            time.sleep(stop)\n",
    "            \n",
    "\n",
    "#with AFG3021b('USB0::0x0699::0x0346::C036492::INSTR') as inst:\n",
    " #   print(inst.idn)\n",
    "\n",
    "        "
   ]
  },
  {
   "cell_type": "code",
   "execution_count": 2,
   "metadata": {},
   "outputs": [
    {
     "data": {
      "text/plain": [
       "('USB0::0x0699::0x0346::C036492::INSTR',\n",
       " 'USB0::0x0699::0x0363::C108013::INSTR',\n",
       " 'ASRL1::INSTR',\n",
       " 'ASRL10::INSTR')"
      ]
     },
     "execution_count": 2,
     "metadata": {},
     "output_type": "execute_result"
    }
   ],
   "source": [
    "import visa\n",
    "rm = visa.ResourceManager()\n",
    "data = rm.list_resources()\n",
    "data"
   ]
  },
  {
   "cell_type": "code",
   "execution_count": 3,
   "metadata": {},
   "outputs": [],
   "source": [
    "osci = Generador('USB0::0x0699::0x0346::C036492::INSTR')"
   ]
  },
  {
   "cell_type": "code",
   "execution_count": 4,
   "metadata": {},
   "outputs": [],
   "source": [
    "osci.initialize()"
   ]
  },
  {
   "cell_type": "code",
   "execution_count": 5,
   "metadata": {},
   "outputs": [
    {
     "name": "stdout",
     "output_type": "stream",
     "text": [
      "10.0 hertz\n"
     ]
    }
   ],
   "source": [
    "print(osci.freqs)"
   ]
  },
  {
   "cell_type": "code",
   "execution_count": 6,
   "metadata": {},
   "outputs": [
    {
     "name": "stderr",
     "output_type": "stream",
     "text": [
      "C:\\Anaconda3\\lib\\site-packages\\lantz\\core\\processors.py:104: DimensionalityWarning: Assuming units `hertz` for 10\n",
      "  warnings.warn(msg, DimensionalityWarning)\n"
     ]
    }
   ],
   "source": [
    "osci.freq = 10"
   ]
  },
  {
   "cell_type": "code",
   "execution_count": 161,
   "metadata": {},
   "outputs": [
    {
     "data": {
      "text/plain": [
       "<Logger lantz (DEBUG)>"
      ]
     },
     "execution_count": 161,
     "metadata": {},
     "output_type": "execute_result"
    }
   ],
   "source": [
    "log.log_to_socket(DEBUG)"
   ]
  },
  {
   "cell_type": "code",
   "execution_count": 156,
   "metadata": {},
   "outputs": [
    {
     "ename": "NameError",
     "evalue": "name 'cutelog' is not defined",
     "output_type": "error",
     "traceback": [
      "\u001b[1;31m---------------------------------------------------------------------------\u001b[0m",
      "\u001b[1;31mNameError\u001b[0m                                 Traceback (most recent call last)",
      "\u001b[1;32m<ipython-input-156-7f28019e856a>\u001b[0m in \u001b[0;36m<module>\u001b[1;34m()\u001b[0m\n\u001b[1;32m----> 1\u001b[1;33m \u001b[0mcutelog\u001b[0m\u001b[1;33m\u001b[0m\u001b[0m\n\u001b[0m",
      "\u001b[1;31mNameError\u001b[0m: name 'cutelog' is not defined"
     ]
    }
   ],
   "source": [
    "with "
   ]
  },
  {
   "cell_type": "code",
   "execution_count": 120,
   "metadata": {},
   "outputs": [],
   "source": [
    "osci.finalize()"
   ]
  },
  {
   "cell_type": "code",
   "execution_count": null,
   "metadata": {},
   "outputs": [],
   "source": []
  }
 ],
 "metadata": {
  "kernelspec": {
   "display_name": "Python 3",
   "language": "python",
   "name": "python3"
  },
  "language_info": {
   "codemirror_mode": {
    "name": "ipython",
    "version": 3
   },
   "file_extension": ".py",
   "mimetype": "text/x-python",
   "name": "python",
   "nbconvert_exporter": "python",
   "pygments_lexer": "ipython3",
   "version": "3.6.6"
  }
 },
 "nbformat": 4,
 "nbformat_minor": 2
}
